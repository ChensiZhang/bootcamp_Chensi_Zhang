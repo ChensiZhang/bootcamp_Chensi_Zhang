{
 "cells": [
  {
   "cell_type": "code",
   "execution_count": 1,
   "id": "e9a00857-e95f-4dc8-a121-c573812154d0",
   "metadata": {},
   "outputs": [],
   "source": [
    "import numpy as np\n",
    "import pandas as pd\n",
    "import matplotlib.pyplot as plt\n",
    "from pathlib import Path\n",
    "np.random.seed(111)\n",
    "plt.rcParams['figure.figsize'] = (8,5)"
   ]
  },
  {
   "cell_type": "code",
   "execution_count": 2,
   "id": "45110747-edeb-4b76-a6aa-8872f9f1148f",
   "metadata": {},
   "outputs": [],
   "source": [
    "def mean_impute(a: np.ndarray) -> np.ndarray:\n",
    "    m = np.nanmean(a)\n",
    "    out = a.copy()\n",
    "    out[np.isnan(out)] = m\n",
    "    return out\n",
    "\n",
    "def median_impute(a: np.ndarray) -> np.ndarray:\n",
    "    m = np.nanmedian(a)\n",
    "    out = a.copy()\n",
    "    out[np.isnan(out)] = m\n",
    "    return out\n",
    "\n",
    "class SimpleLinReg:\n",
    "    def fit(self, X, y):\n",
    "        X1 = np.c_[np.ones(len(X)), X.ravel()]\n",
    "        beta = np.linalg.pinv(X1) @ y\n",
    "        self.intercept_, self.coef_ = float(beta[0]), np.array([float(beta[1])])\n",
    "        return self\n",
    "    def predict(self, X):\n",
    "        return self.intercept_ + self.coef_[0] * X.ravel()\n",
    "\n",
    "def mae(y_true, y_pred):\n",
    "    return float(np.mean(np.abs(y_true - y_pred)))\n",
    "\n",
    "def bootstrap_metric(y_true, y_pred, fn, n_boot=500, seed=111, alpha=0.05):\n",
    "    rng = np.random.default_rng(seed)\n",
    "    idx = np.arange(len(y_true))\n",
    "    stats = []\n",
    "    for _ in range(n_boot):\n",
    "        b = rng.choice(idx, size=len(idx), replace=True)\n",
    "        stats.append(fn(y_true[b], y_pred[b]))\n",
    "    lo, hi = np.percentile(stats, [100*alpha/2, 100*(1-alpha/2)])\n",
    "    return {'mean': float(np.mean(stats)), 'lo': float(lo), 'hi': float(hi)}\n",
    "\n",
    "def fit_fn(X, y):\n",
    "    return SimpleLinReg().fit(X, y)\n",
    "def pred_fn(model, X):\n",
    "    return model.predict(X)"
   ]
  }
 ],
 "metadata": {
  "kernelspec": {
   "display_name": "Python 3 (ipykernel)",
   "language": "python",
   "name": "python3"
  },
  "language_info": {
   "codemirror_mode": {
    "name": "ipython",
    "version": 3
   },
   "file_extension": ".py",
   "mimetype": "text/x-python",
   "name": "python",
   "nbconvert_exporter": "python",
   "pygments_lexer": "ipython3",
   "version": "3.10.18"
  }
 },
 "nbformat": 4,
 "nbformat_minor": 5
}
