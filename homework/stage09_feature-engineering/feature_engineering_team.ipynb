{
 "cells": [
  {
   "cell_type": "code",
   "execution_count": 1,
   "id": "ead377c9-0bfb-45c3-8c7b-48a52437830e",
   "metadata": {},
   "outputs": [],
   "source": [
    "import pandas as pd\n",
    "import numpy as np"
   ]
  },
  {
   "cell_type": "code",
   "execution_count": 2,
   "id": "79090b5d-3b78-43f5-b132-5601d72fddbe",
   "metadata": {},
   "outputs": [],
   "source": [
    "df = pd.read_csv('C:/Users/Zhangchensi/bootcamp_Chensi_Zhang/homework/stage08-exploratory-data-analysis/data')\n",
    "df = df.iloc[:,1:]"
   ]
  },
  {
   "cell_type": "code",
   "execution_count": 3,
   "id": "38fd17a9-ce6a-488c-8b5d-fb6a1fcc9d6f",
   "metadata": {},
   "outputs": [],
   "source": [
    "df['ln_spend'] = np.log1p(df['spend']) #dealing with right-skewed\n",
    "df['ln_income'] = np.log1p(df['income']) #dealing with right-skewed\n",
    "df['ln_transactions'] = np.log1p(df['transactions']) #dealing with right-skewed"
   ]
  },
  {
   "cell_type": "code",
   "execution_count": 4,
   "id": "6af1e29a-f09a-4052-a6c1-30ebbfc5de08",
   "metadata": {},
   "outputs": [],
   "source": [
    "df['spend/income'] = df['spend'] / df['income']  #capturing relative behavior, not absolute values,creating a stronger and more interpretable feature,mitigating multicollinearity issues."
   ]
  },
  {
   "cell_type": "code",
   "execution_count": 5,
   "id": "93a08e20-c1ad-43df-ba43-516489410f29",
   "metadata": {},
   "outputs": [],
   "source": [
    "df.to_csv('C:/Users/Zhangchensi/bootcamp_Chensi_Zhang/homework/stage09_feature-engineering/data_engineering')"
   ]
  }
 ],
 "metadata": {
  "kernelspec": {
   "display_name": "Python 3 (ipykernel)",
   "language": "python",
   "name": "python3"
  },
  "language_info": {
   "codemirror_mode": {
    "name": "ipython",
    "version": 3
   },
   "file_extension": ".py",
   "mimetype": "text/x-python",
   "name": "python",
   "nbconvert_exporter": "python",
   "pygments_lexer": "ipython3",
   "version": "3.10.18"
  }
 },
 "nbformat": 4,
 "nbformat_minor": 5
}
