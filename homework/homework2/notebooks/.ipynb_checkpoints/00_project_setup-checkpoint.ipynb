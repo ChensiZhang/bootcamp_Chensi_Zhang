{
 "cells": [
  {
   "cell_type": "markdown",
   "id": "1301f70b-efc5-4d89-94cf-94970d432bfc",
   "metadata": {},
   "source": [
    "## Environment & Config Check"
   ]
  },
  {
   "cell_type": "code",
   "execution_count": 1,
   "id": "5d593011-9166-4f06-916e-724cdb24bb4e",
   "metadata": {},
   "outputs": [],
   "source": [
    "import sys, os"
   ]
  },
  {
   "cell_type": "code",
   "execution_count": 2,
   "id": "2f181fd4-2aa8-4c10-b85d-df13d7cb4320",
   "metadata": {},
   "outputs": [],
   "source": [
    "import numpy as np\n",
    "from dotenv import load_dotenv"
   ]
  },
  {
   "cell_type": "code",
   "execution_count": 3,
   "id": "8f519830-bf53-46ee-87f9-29a24d0f8a3b",
   "metadata": {},
   "outputs": [
    {
     "name": "stdout",
     "output_type": "stream",
     "text": [
      ".env loaded (if present)\n"
     ]
    }
   ],
   "source": [
    "from pathlib import Path\n",
    "load_dotenv()\n",
    "print(\".env loaded (if present)\")"
   ]
  },
  {
   "cell_type": "code",
   "execution_count": 4,
   "id": "a45979dc-36ea-49bd-b08b-0fb04bc236b5",
   "metadata": {},
   "outputs": [
    {
     "name": "stdout",
     "output_type": "stream",
     "text": [
      "J108XOE685L3S8PD\n"
     ]
    }
   ],
   "source": [
    "import os\n",
    "api_key = os.getenv(\"OPENAI_API_KEY\")\n",
    "print(api_key)  # 验证是否成功加载"
   ]
  },
  {
   "cell_type": "code",
   "execution_count": 5,
   "id": "c68b067a-88f6-41fe-8ae3-332b4b6ed8d9",
   "metadata": {},
   "outputs": [
    {
     "name": "stdout",
     "output_type": "stream",
     "text": [
      "PROJECT_ROOT: C:\\Users\\Zhangchensi\\bootcamp_Chensi_Zhang\\notebooks\n",
      "DATA_DIR: C:\\Users\\Zhangchensi\\bootcamp_Chensi_Zhang\\notebooks\\data\n"
     ]
    }
   ],
   "source": [
    "from typing import Optional\n",
    "\n",
    "def get_key(name):\n",
    "    return os.getenv(name)\n",
    "\n",
    "PROJECT_ROOT = Path.cwd()\n",
    "DATA_DIR = PROJECT_ROOT / \"data\"\n",
    "print(\"PROJECT_ROOT:\", PROJECT_ROOT)\n",
    "print(\"DATA_DIR:\", DATA_DIR)"
   ]
  },
  {
   "cell_type": "code",
   "execution_count": 6,
   "id": "15295726-db1f-4b97-bba5-745bb9cdb772",
   "metadata": {},
   "outputs": [
    {
     "name": "stdout",
     "output_type": "stream",
     "text": [
      "API_KEY present: True\n",
      "DATA_DIR from env: None\n"
     ]
    }
   ],
   "source": [
    "api_key_present = get_key(\"OPENAI_API_KEY\") is not None\n",
    "data_dir_env = get_key(\"DATA_DIR\")\n",
    "print(\"API_KEY present:\", api_key_present)\n",
    "print(\"DATA_DIR from env:\", data_dir_env)"
   ]
  },
  {
   "cell_type": "code",
   "execution_count": 7,
   "id": "286d30b0-cd0f-42ba-9cce-cbb3ca975374",
   "metadata": {},
   "outputs": [
    {
     "name": "stdout",
     "output_type": "stream",
     "text": [
      "Array: [1 2 3 4 5]\n",
      "Mean: 3.0\n",
      "Vectorized * 10: [10 20 30 40 50]\n"
     ]
    }
   ],
   "source": [
    "arr = np.array([1, 2, 3, 4, 5])\n",
    "print(\"Array:\", arr)\n",
    "print(\"Mean:\", arr.mean())\n",
    "print(\"Vectorized * 10:\", arr * 10)"
   ]
  },
  {
   "cell_type": "code",
   "execution_count": null,
   "id": "3b4876be-d45a-4e25-8639-01a6039275cb",
   "metadata": {},
   "outputs": [],
   "source": []
  }
 ],
 "metadata": {
  "kernelspec": {
   "display_name": "Python 3 (ipykernel)",
   "language": "python",
   "name": "python3"
  },
  "language_info": {
   "codemirror_mode": {
    "name": "ipython",
    "version": 3
   },
   "file_extension": ".py",
   "mimetype": "text/x-python",
   "name": "python",
   "nbconvert_exporter": "python",
   "pygments_lexer": "ipython3",
   "version": "3.10.18"
  }
 },
 "nbformat": 4,
 "nbformat_minor": 5
}
