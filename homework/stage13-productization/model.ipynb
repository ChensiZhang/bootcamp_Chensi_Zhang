{
 "cells": [
  {
   "cell_type": "code",
   "execution_count": 1,
   "id": "c3bde829-2b66-44f1-8775-8a8a75c1329c",
   "metadata": {},
   "outputs": [],
   "source": [
    "from sklearn.datasets import make_regression\n",
    "from sklearn.linear_model import LinearRegression\n",
    "import joblib\n",
    "import os"
   ]
  },
  {
   "cell_type": "code",
   "execution_count": 2,
   "id": "deb7ed47-8b4d-4d7a-a517-8c0be690bb42",
   "metadata": {},
   "outputs": [
    {
     "name": "stdout",
     "output_type": "stream",
     "text": [
      "Test prediction: [23.58961171]\n"
     ]
    }
   ],
   "source": [
    "# Create folders if they don't exist\n",
    "os.makedirs('model', exist_ok=True)\n",
    "\n",
    "# Generate synthetic data\n",
    "X, y = make_regression(n_samples=100, n_features=2, noise=0.1, random_state=42)\n",
    "\n",
    "# Train a basic model\n",
    "model = LinearRegression()\n",
    "model.fit(X, y)\n",
    "\n",
    "# Save the model to disk\n",
    "joblib.dump(model, 'model/model.pkl')\n",
    "\n",
    "# Test that it works\n",
    "print(\"Test prediction:\", model.predict([[0.1, 0.2]]))"
   ]
  },
  {
   "cell_type": "code",
   "execution_count": 3,
   "id": "ff46ff6c-e2bf-4bb9-a8b9-e907cd9f4e6c",
   "metadata": {},
   "outputs": [
    {
     "name": "stdout",
     "output_type": "stream",
     "text": [
      "Reloaded model prediction: [23.58961171]\n"
     ]
    }
   ],
   "source": [
    "# Load the model\n",
    "loaded_model = joblib.load('model/model.pkl')\n",
    "print(\"Reloaded model prediction:\", loaded_model.predict([[0.1, 0.2]]))"
   ]
  },
  {
   "cell_type": "code",
   "execution_count": 4,
   "id": "4928e1cc-3433-41f8-8a46-0083ac6481ca",
   "metadata": {},
   "outputs": [
    {
     "name": "stdout",
     "output_type": "stream",
     "text": [
      "Function test: 23.59\n"
     ]
    }
   ],
   "source": [
    "def predict(features, round_prediction=False):\n",
    "    \"\"\"\n",
    "    Predict using the loaded model.\n",
    "    Optional parameter: round_prediction\n",
    "    \"\"\"\n",
    "    pred = loaded_model.predict([features])[0]\n",
    "    if round_prediction:\n",
    "        pred = round(pred, 2)\n",
    "    return pred\n",
    "\n",
    "# Test the function\n",
    "print(\"Function test:\", predict([0.1, 0.2], round_prediction=True))"
   ]
  },
  {
   "cell_type": "code",
   "execution_count": 5,
   "id": "9d5f98f9-97c2-4dba-b04d-c3d29635e787",
   "metadata": {},
   "outputs": [
    {
     "name": "stdout",
     "output_type": "stream",
     "text": [
      " * Serving Flask app '__main__'\n",
      " * Debug mode: off\n"
     ]
    },
    {
     "name": "stderr",
     "output_type": "stream",
     "text": [
      "WARNING: This is a development server. Do not use it in a production deployment. Use a production WSGI server instead.\n",
      " * Running on http://127.0.0.1:5000\n",
      "Press CTRL+C to quit\n"
     ]
    },
    {
     "ename": "NameError",
     "evalue": "name 'flask_code' is not defined",
     "output_type": "error",
     "traceback": [
      "\u001b[1;31m---------------------------------------------------------------------------\u001b[0m",
      "\u001b[1;31mNameError\u001b[0m                                 Traceback (most recent call last)",
      "Cell \u001b[1;32mIn[5], line 45\u001b[0m\n\u001b[0;32m     42\u001b[0m     app\u001b[38;5;241m.\u001b[39mrun(debug\u001b[38;5;241m=\u001b[39m\u001b[38;5;28;01mFalse\u001b[39;00m)\n\u001b[0;32m     44\u001b[0m \u001b[38;5;28;01mwith\u001b[39;00m \u001b[38;5;28mopen\u001b[39m(\u001b[38;5;124m'\u001b[39m\u001b[38;5;124mapp.py\u001b[39m\u001b[38;5;124m'\u001b[39m,\u001b[38;5;124m'\u001b[39m\u001b[38;5;124mw\u001b[39m\u001b[38;5;124m'\u001b[39m) \u001b[38;5;28;01mas\u001b[39;00m f:\n\u001b[1;32m---> 45\u001b[0m     f\u001b[38;5;241m.\u001b[39mwrite(\u001b[43mflask_code\u001b[49m)\n\u001b[0;32m     47\u001b[0m \u001b[38;5;28mprint\u001b[39m(\u001b[38;5;124m\"\u001b[39m\u001b[38;5;124mFlask app saved to app.py\u001b[39m\u001b[38;5;124m\"\u001b[39m)\n",
      "\u001b[1;31mNameError\u001b[0m: name 'flask_code' is not defined"
     ]
    }
   ],
   "source": [
    "from flask import Flask, request, jsonify, render_template_string\n",
    "import joblib\n",
    "import matplotlib.pyplot as plt\n",
    "import io, base64\n",
    "\n",
    "model = joblib.load('model/model.pkl')\n",
    "app = Flask(__name__)\n",
    "\n",
    "def predict(features):\n",
    "    pred = model.predict([features])[0]\n",
    "    return pred\n",
    "\n",
    "@app.route('/predict', methods=['POST'])\n",
    "def predict_default():\n",
    "    data = request.get_json()\n",
    "    features = data.get('features')\n",
    "    return jsonify({'prediction': float(predict(features))})\n",
    "\n",
    "@app.route('/predict/<float:input1>')\n",
    "@app.route('/predict/<float:input1>/<float:input2>')\n",
    "def predict_path(input1, input2=None):\n",
    "    if input2 is None:\n",
    "        features = [input1]\n",
    "    else:\n",
    "        features = [input1, input2]\n",
    "    return jsonify({'prediction': float(predict(features))})\n",
    "\n",
    "@app.route('/plot')\n",
    "def plot_page():\n",
    "    fig, ax = plt.subplots()\n",
    "    ax.plot([0,1,2,3],[10,20,15,30])\n",
    "    ax.set_title(\"Demo Plot\")\n",
    "    buf = io.BytesIO()\n",
    "    fig.savefig(buf, format='png')\n",
    "    buf.seek(0)\n",
    "    img_base64 = base64.b64encode(buf.read()).decode('utf-8')\n",
    "    buf.close()\n",
    "    html = f\"<html><body><h1>Model Output Plot</h1><img src='data:image/png;base64,{img_base64}'></body></html>\"\n",
    "    return render_template_string(html)\n",
    "\n",
    "if __name__ == '__main__':\n",
    "    app.run(debug=False)\n",
    "\n",
    "with open('app.py','w') as f:\n",
    "    f.write(flask_code)\n",
    "\n",
    "print(\"Flask app saved to app.py\")"
   ]
  },
  {
   "cell_type": "code",
   "execution_count": 7,
   "id": "d9085550-7bc1-4d8d-829f-7bd98c7d89c0",
   "metadata": {},
   "outputs": [
    {
     "name": "stdout",
     "output_type": "stream",
     "text": [
      "Flask server launched in external terminal window.\n"
     ]
    }
   ],
   "source": [
    "import os\n",
    "# Windows command to launch Flask in separate terminal window\n",
    "os.system(\"start cmd /k python app.py\")\n",
    "print(\"Flask server launched in external terminal window.\")"
   ]
  },
  {
   "cell_type": "code",
   "execution_count": 10,
   "id": "26929b37-630a-4234-b597-e878b3b841bd",
   "metadata": {},
   "outputs": [
    {
     "name": "stderr",
     "output_type": "stream",
     "text": [
      "2025-08-27 17:32:32.470 WARNING streamlit.runtime.scriptrunner_utils.script_run_context: Thread 'MainThread': missing ScriptRunContext! This warning can be ignored when running in bare mode.\n",
      "2025-08-27 17:32:32.759 \n",
      "  \u001b[33m\u001b[1mWarning:\u001b[0m to view this Streamlit app on a browser, run it with the following\n",
      "  command:\n",
      "\n",
      "    streamlit run E:\\anaconda\\envs\\bootcamp_env\\lib\\site-packages\\ipykernel_launcher.py [ARGUMENTS]\n",
      "2025-08-27 17:32:32.759 Thread 'MainThread': missing ScriptRunContext! This warning can be ignored when running in bare mode.\n",
      "2025-08-27 17:32:32.759 Thread 'MainThread': missing ScriptRunContext! This warning can be ignored when running in bare mode.\n",
      "2025-08-27 17:32:32.773 Thread 'MainThread': missing ScriptRunContext! This warning can be ignored when running in bare mode.\n",
      "2025-08-27 17:32:32.775 Thread 'MainThread': missing ScriptRunContext! This warning can be ignored when running in bare mode.\n",
      "2025-08-27 17:32:32.776 Thread 'MainThread': missing ScriptRunContext! This warning can be ignored when running in bare mode.\n",
      "2025-08-27 17:32:32.777 Thread 'MainThread': missing ScriptRunContext! This warning can be ignored when running in bare mode.\n",
      "2025-08-27 17:32:32.779 Session state does not function when running a script without `streamlit run`\n",
      "2025-08-27 17:32:32.780 Thread 'MainThread': missing ScriptRunContext! This warning can be ignored when running in bare mode.\n",
      "2025-08-27 17:32:32.782 Thread 'MainThread': missing ScriptRunContext! This warning can be ignored when running in bare mode.\n",
      "2025-08-27 17:32:32.784 Thread 'MainThread': missing ScriptRunContext! This warning can be ignored when running in bare mode.\n",
      "2025-08-27 17:32:32.785 Thread 'MainThread': missing ScriptRunContext! This warning can be ignored when running in bare mode.\n",
      "2025-08-27 17:32:32.785 Thread 'MainThread': missing ScriptRunContext! This warning can be ignored when running in bare mode.\n",
      "2025-08-27 17:32:32.790 Thread 'MainThread': missing ScriptRunContext! This warning can be ignored when running in bare mode.\n",
      "2025-08-27 17:32:32.790 Thread 'MainThread': missing ScriptRunContext! This warning can be ignored when running in bare mode.\n",
      "2025-08-27 17:32:32.790 Thread 'MainThread': missing ScriptRunContext! This warning can be ignored when running in bare mode.\n",
      "2025-08-27 17:32:32.797 Thread 'MainThread': missing ScriptRunContext! This warning can be ignored when running in bare mode.\n",
      "2025-08-27 17:32:32.799 Thread 'MainThread': missing ScriptRunContext! This warning can be ignored when running in bare mode.\n",
      "2025-08-27 17:32:32.801 Thread 'MainThread': missing ScriptRunContext! This warning can be ignored when running in bare mode.\n",
      "2025-08-27 17:32:32.802 Thread 'MainThread': missing ScriptRunContext! This warning can be ignored when running in bare mode.\n",
      "2025-08-27 17:32:32.802 Thread 'MainThread': missing ScriptRunContext! This warning can be ignored when running in bare mode.\n",
      "2025-08-27 17:32:32.805 Thread 'MainThread': missing ScriptRunContext! This warning can be ignored when running in bare mode.\n",
      "2025-08-27 17:32:32.807 Thread 'MainThread': missing ScriptRunContext! This warning can be ignored when running in bare mode.\n",
      "2025-08-27 17:32:32.807 Thread 'MainThread': missing ScriptRunContext! This warning can be ignored when running in bare mode.\n"
     ]
    },
    {
     "ename": "NameError",
     "evalue": "name 'streamlit_code' is not defined",
     "output_type": "error",
     "traceback": [
      "\u001b[1;31m---------------------------------------------------------------------------\u001b[0m",
      "\u001b[1;31mNameError\u001b[0m                                 Traceback (most recent call last)",
      "Cell \u001b[1;32mIn[10], line 16\u001b[0m\n\u001b[0;32m     13\u001b[0m     st\u001b[38;5;241m.\u001b[39mwrite(\u001b[38;5;124mf\u001b[39m\u001b[38;5;124m\"\u001b[39m\u001b[38;5;124mPrediction: \u001b[39m\u001b[38;5;132;01m{\u001b[39;00mpred[\u001b[38;5;241m0\u001b[39m]\u001b[38;5;132;01m}\u001b[39;00m\u001b[38;5;124m\"\u001b[39m)\n\u001b[0;32m     15\u001b[0m \u001b[38;5;28;01mwith\u001b[39;00m \u001b[38;5;28mopen\u001b[39m(\u001b[38;5;124m'\u001b[39m\u001b[38;5;124mapp_streamlit.py\u001b[39m\u001b[38;5;124m'\u001b[39m,\u001b[38;5;124m'\u001b[39m\u001b[38;5;124mw\u001b[39m\u001b[38;5;124m'\u001b[39m) \u001b[38;5;28;01mas\u001b[39;00m f:\n\u001b[1;32m---> 16\u001b[0m     f\u001b[38;5;241m.\u001b[39mwrite(\u001b[43mstreamlit_code\u001b[49m)\n\u001b[0;32m     18\u001b[0m \u001b[38;5;28mprint\u001b[39m(\u001b[38;5;124m\"\u001b[39m\u001b[38;5;124mStreamlit app saved to app_streamlit.py\u001b[39m\u001b[38;5;124m\"\u001b[39m)\n\u001b[0;32m     20\u001b[0m \u001b[38;5;66;03m# Launch Streamlit in external terminal (Windows example)\u001b[39;00m\n",
      "\u001b[1;31mNameError\u001b[0m: name 'streamlit_code' is not defined"
     ]
    }
   ],
   "source": [
    "import streamlit as st\n",
    "import joblib\n",
    "\n",
    "model = joblib.load('model/model.pkl')\n",
    "\n",
    "st.title(\"Model Prediction Dashboard\")\n",
    "\n",
    "input_1 = st.number_input(\"Feature 1\")\n",
    "input_2 = st.number_input(\"Feature 2\")\n",
    "\n",
    "if st.button(\"Predict\"):\n",
    "    pred = model.predict([[input_1, input_2]])\n",
    "    st.write(f\"Prediction: {pred[0]}\")\n",
    "\n",
    "with open('app_streamlit.py','w') as f:\n",
    "    f.write(streamlit_code)\n",
    "\n",
    "print(\"Streamlit app saved to app_streamlit.py\")\n",
    "\n",
    "# Launch Streamlit in external terminal (Windows example)\n",
    "os.system(\"start cmd /k streamlit run app_streamlit.py\")\n",
    "print(\"Streamlit dashboard launched in external terminal window.\")"
   ]
  }
 ],
 "metadata": {
  "kernelspec": {
   "display_name": "Python 3 (ipykernel)",
   "language": "python",
   "name": "python3"
  },
  "language_info": {
   "codemirror_mode": {
    "name": "ipython",
    "version": 3
   },
   "file_extension": ".py",
   "mimetype": "text/x-python",
   "name": "python",
   "nbconvert_exporter": "python",
   "pygments_lexer": "ipython3",
   "version": "3.10.18"
  }
 },
 "nbformat": 4,
 "nbformat_minor": 5
}
