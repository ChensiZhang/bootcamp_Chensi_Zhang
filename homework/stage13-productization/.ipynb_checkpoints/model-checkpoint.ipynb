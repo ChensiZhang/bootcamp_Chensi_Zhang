{
 "cells": [
  {
   "cell_type": "code",
   "execution_count": 1,
   "id": "c3bde829-2b66-44f1-8775-8a8a75c1329c",
   "metadata": {},
   "outputs": [],
   "source": [
    "from sklearn.datasets import make_regression\n",
    "from sklearn.linear_model import LinearRegression\n",
    "import joblib\n",
    "import os"
   ]
  },
  {
   "cell_type": "code",
   "execution_count": 2,
   "id": "deb7ed47-8b4d-4d7a-a517-8c0be690bb42",
   "metadata": {},
   "outputs": [
    {
     "name": "stdout",
     "output_type": "stream",
     "text": [
      "Test prediction: [23.58961171]\n"
     ]
    }
   ],
   "source": [
    "# Create folders if they don't exist\n",
    "os.makedirs('model', exist_ok=True)\n",
    "\n",
    "# Generate synthetic data\n",
    "X, y = make_regression(n_samples=100, n_features=2, noise=0.1, random_state=42)\n",
    "\n",
    "# Train a basic model\n",
    "model = LinearRegression()\n",
    "model.fit(X, y)\n",
    "\n",
    "# Save the model to disk\n",
    "joblib.dump(model, 'model/model.pkl')\n",
    "\n",
    "# Test that it works\n",
    "print(\"Test prediction:\", model.predict([[0.1, 0.2]]))"
   ]
  },
  {
   "cell_type": "code",
   "execution_count": 3,
   "id": "ff46ff6c-e2bf-4bb9-a8b9-e907cd9f4e6c",
   "metadata": {},
   "outputs": [
    {
     "name": "stdout",
     "output_type": "stream",
     "text": [
      "Reloaded model prediction: [23.58961171]\n"
     ]
    }
   ],
   "source": [
    "# Load the model\n",
    "loaded_model = joblib.load('model/model.pkl')\n",
    "print(\"Reloaded model prediction:\", loaded_model.predict([[0.1, 0.2]]))"
   ]
  },
  {
   "cell_type": "code",
   "execution_count": 4,
   "id": "4928e1cc-3433-41f8-8a46-0083ac6481ca",
   "metadata": {},
   "outputs": [
    {
     "name": "stdout",
     "output_type": "stream",
     "text": [
      "Function test: 23.59\n"
     ]
    }
   ],
   "source": [
    "def predict(features, round_prediction=False):\n",
    "    \"\"\"\n",
    "    Predict using the loaded model.\n",
    "    Optional parameter: round_prediction\n",
    "    \"\"\"\n",
    "    pred = loaded_model.predict([features])[0]\n",
    "    if round_prediction:\n",
    "        pred = round(pred, 2)\n",
    "    return pred\n",
    "\n",
    "# Test the function\n",
    "print(\"Function test:\", predict([0.1, 0.2], round_prediction=True))"
   ]
  },
  {
   "cell_type": "code",
   "execution_count": null,
   "id": "9d5f98f9-97c2-4dba-b04d-c3d29635e787",
   "metadata": {},
   "outputs": [
    {
     "name": "stdout",
     "output_type": "stream",
     "text": [
      " * Serving Flask app '__main__'\n",
      " * Debug mode: off\n"
     ]
    },
    {
     "name": "stderr",
     "output_type": "stream",
     "text": [
      "WARNING: This is a development server. Do not use it in a production deployment. Use a production WSGI server instead.\n",
      " * Running on http://127.0.0.1:5000\n",
      "Press CTRL+C to quit\n",
      "127.0.0.1 - - [27/Aug/2025 17:20:22] \"GET / HTTP/1.1\" 404 -\n",
      "127.0.0.1 - - [27/Aug/2025 17:20:22] \"GET /favicon.ico HTTP/1.1\" 404 -\n"
     ]
    }
   ],
   "source": [
    "from flask import Flask, request, jsonify, render_template_string\n",
    "import joblib\n",
    "import matplotlib.pyplot as plt\n",
    "import io, base64\n",
    "\n",
    "model = joblib.load('model/model.pkl')\n",
    "app = Flask(__name__)\n",
    "\n",
    "def predict(features):\n",
    "    pred = model.predict([features])[0]\n",
    "    return pred\n",
    "\n",
    "@app.route('/predict', methods=['POST'])\n",
    "def predict_default():\n",
    "    data = request.get_json()\n",
    "    features = data.get('features')\n",
    "    return jsonify({'prediction': float(predict(features))})\n",
    "\n",
    "@app.route('/predict/<float:input1>')\n",
    "@app.route('/predict/<float:input1>/<float:input2>')\n",
    "def predict_path(input1, input2=None):\n",
    "    if input2 is None:\n",
    "        features = [input1]\n",
    "    else:\n",
    "        features = [input1, input2]\n",
    "    return jsonify({'prediction': float(predict(features))})\n",
    "\n",
    "@app.route('/plot')\n",
    "def plot_page():\n",
    "    fig, ax = plt.subplots()\n",
    "    ax.plot([0,1,2,3],[10,20,15,30])\n",
    "    ax.set_title(\"Demo Plot\")\n",
    "    buf = io.BytesIO()\n",
    "    fig.savefig(buf, format='png')\n",
    "    buf.seek(0)\n",
    "    img_base64 = base64.b64encode(buf.read()).decode('utf-8')\n",
    "    buf.close()\n",
    "    html = f\"<html><body><h1>Model Output Plot</h1><img src='data:image/png;base64,{img_base64}'></body></html>\"\n",
    "    return render_template_string(html)\n",
    "\n",
    "if __name__ == '__main__':\n",
    "    app.run(debug=False)\n",
    "\n",
    "with open('app.py','w') as f:\n",
    "    f.write(flask_code)\n",
    "\n",
    "print(\"Flask app saved to app.py\")"
   ]
  },
  {
   "cell_type": "code",
   "execution_count": null,
   "id": "4431d939-c644-4810-bc5e-648493a11ca7",
   "metadata": {},
   "outputs": [],
   "source": []
  }
 ],
 "metadata": {
  "kernelspec": {
   "display_name": "Python 3 (ipykernel)",
   "language": "python",
   "name": "python3"
  },
  "language_info": {
   "codemirror_mode": {
    "name": "ipython",
    "version": 3
   },
   "file_extension": ".py",
   "mimetype": "text/x-python",
   "name": "python",
   "nbconvert_exporter": "python",
   "pygments_lexer": "ipython3",
   "version": "3.10.18"
  }
 },
 "nbformat": 4,
 "nbformat_minor": 5
}
