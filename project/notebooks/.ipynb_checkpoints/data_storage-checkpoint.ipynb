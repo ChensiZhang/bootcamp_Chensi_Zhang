{
 "cells": [
  {
   "cell_type": "code",
   "execution_count": 1,
   "id": "8e4906cb-39ad-4831-9602-d47fe024220f",
   "metadata": {},
   "outputs": [],
   "source": [
    "import sys, os\n",
    "import requests\n",
    "import pandas as pd"
   ]
  },
  {
   "cell_type": "code",
   "execution_count": 2,
   "id": "1f71325c-3b70-45d9-bc78-fe48c0a51689",
   "metadata": {},
   "outputs": [],
   "source": [
    "import numpy as np\n",
    "from dotenv import load_dotenv"
   ]
  },
  {
   "cell_type": "code",
   "execution_count": 3,
   "id": "59660d96-c9ca-43f0-b65d-099aa50e8bba",
   "metadata": {},
   "outputs": [
    {
     "name": "stdout",
     "output_type": "stream",
     "text": [
      "C:\\Users\\Zhangchensi\\bootcamp_Chensi_Zhang\\data\\raw\n",
      "C:\\Users\\Zhangchensi\\bootcamp_Chensi_Zhang\\data\\processed\n"
     ]
    }
   ],
   "source": [
    "raw_dir = os.getenv(\"DATA_DIR_RAW_PROJECT\")\n",
    "processed_dir = os.getenv(\"DATA_DIR_PROJECT\")\n",
    "print(raw_dir)\n",
    "print(processed_dir)"
   ]
  }
 ],
 "metadata": {
  "kernelspec": {
   "display_name": "Python 3 (ipykernel)",
   "language": "python",
   "name": "python3"
  },
  "language_info": {
   "codemirror_mode": {
    "name": "ipython",
    "version": 3
   },
   "file_extension": ".py",
   "mimetype": "text/x-python",
   "name": "python",
   "nbconvert_exporter": "python",
   "pygments_lexer": "ipython3",
   "version": "3.10.18"
  }
 },
 "nbformat": 4,
 "nbformat_minor": 5
}
