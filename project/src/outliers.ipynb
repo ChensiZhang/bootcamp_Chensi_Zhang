{
 "cells": [
  {
   "cell_type": "code",
   "execution_count": 1,
   "id": "39c47866-6684-4526-a0e6-e68b2c74e6a0",
   "metadata": {},
   "outputs": [],
   "source": [
    "import pandas as pd\n",
    "import numpy as np\n",
    "\n",
    "def handle_outliers_simple(df, columns=None, method='remove', threshold=1.5):\n",
    "    \n",
    "    if columns is None:\n",
    "        columns = df.select_dtypes(include=np.number).columns\n",
    "    \n",
    "    result_df = df.copy()\n",
    "    \n",
    "    for col in columns:\n",
    "        Q1 = result_df[col].quantile(0.25)\n",
    "        Q3 = result_df[col].quantile(0.75)\n",
    "        IQR = Q3 - Q1\n",
    "        lower = Q1 - threshold * IQR\n",
    "        upper = Q3 + threshold * IQR\n",
    "        \n",
    "        if method == 'remove':\n",
    "            result_df = result_df[(result_df[col] >= lower) & (result_df[col] <= upper)]\n",
    "        elif method == 'clip':\n",
    "            result_df[col] = result_df[col].clip(lower, upper)\n",
    "        elif method == 'mean':\n",
    "            mean_val = result_df[col].mean()\n",
    "            result_df.loc[result_df[col] < lower, col] = mean_val\n",
    "            result_df.loc[result_df[col] > upper, col] = mean_val\n",
    "    \n",
    "    return result_df"
   ]
  }
 ],
 "metadata": {
  "kernelspec": {
   "display_name": "Python 3 (ipykernel)",
   "language": "python",
   "name": "python3"
  },
  "language_info": {
   "codemirror_mode": {
    "name": "ipython",
    "version": 3
   },
   "file_extension": ".py",
   "mimetype": "text/x-python",
   "name": "python",
   "nbconvert_exporter": "python",
   "pygments_lexer": "ipython3",
   "version": "3.10.18"
  }
 },
 "nbformat": 4,
 "nbformat_minor": 5
}
