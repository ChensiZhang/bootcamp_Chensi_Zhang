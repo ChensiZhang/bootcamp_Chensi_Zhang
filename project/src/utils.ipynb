{
 "cells": [
  {
   "cell_type": "code",
   "execution_count": 1,
   "id": "852e6c6e-4a93-433a-8753-55e2ca018152",
   "metadata": {},
   "outputs": [],
   "source": [
    "def clean_columns(df):\n",
    "    \n",
    "    new_columns = []\n",
    "    seen = {}\n",
    "    \n",
    "    for col in df.columns:\n",
    "\n",
    "        \n",
    "        col_clean = str(col).strip().lower()\n",
    "        col_clean = re.sub(r'[^\\w\\s]', '', col_clean)  \n",
    "        col_clean = re.sub(r'\\s+', '_', col_clean)     \n",
    "        \n",
    "        if col_clean in seen:\n",
    "            count = seen[col_clean] + 1\n",
    "            seen[col_clean] = count\n",
    "            col_clean = f\"{col_clean}_{count}\"\n",
    "        else:\n",
    "            seen[col_clean] = 0\n",
    "        \n",
    "        new_columns.append(col_clean)"
   ]
  },
  {
   "cell_type": "markdown",
   "id": "d368f670-c04e-47d4-bf39-ca5c704429e7",
   "metadata": {},
   "source": [
    "Column Name Cleaner Function\n",
    "\n",
    "This function cleans and standardizes DataFrame column names by performing the following operations:\n",
    "\n",
    "String conversion: Converts all column names to strings using str(col)\n",
    "\n",
    "Whitespace removal: Removes leading and trailing spaces with .strip()\n",
    "\n",
    "Lowercasing: Converts all characters to lowercase with .lower()\n",
    "\n",
    "Special character removal: Uses regex [^\\w\\s] to remove any characters that are not alphanumeric, underscores, or whitespace\n",
    "\n",
    "Space replacement: Replaces any sequence of whitespace characters with underscores using regex \\s+\n",
    "\n",
    "Duplicate handling: Detects and renames duplicate column names by appending incremental numbers (e.g., column_1, column_2)\n",
    "\n",
    "Input: A pandas DataFrame with potentially messy column names\n",
    "Output: The same DataFrame with cleaned, standardized column names that follow snake_case convention and are free of duplicates\n",
    "\n",
    "The function ensures consistent, readable, and programmatically friendly column names across datasets."
   ]
  }
 ],
 "metadata": {
  "kernelspec": {
   "display_name": "Python 3 (ipykernel)",
   "language": "python",
   "name": "python3"
  },
  "language_info": {
   "codemirror_mode": {
    "name": "ipython",
    "version": 3
   },
   "file_extension": ".py",
   "mimetype": "text/x-python",
   "name": "python",
   "nbconvert_exporter": "python",
   "pygments_lexer": "ipython3",
   "version": "3.10.18"
  }
 },
 "nbformat": 4,
 "nbformat_minor": 5
}
