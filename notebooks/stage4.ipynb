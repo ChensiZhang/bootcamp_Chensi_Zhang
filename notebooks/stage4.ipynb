{
 "cells": [
  {
   "cell_type": "code",
   "execution_count": 1,
   "id": "36de13e6-1881-4fd9-a39d-7374084e7294",
   "metadata": {},
   "outputs": [],
   "source": [
    "import sys, os\n",
    "import requests\n",
    "import pandas as pd"
   ]
  },
  {
   "cell_type": "code",
   "execution_count": 2,
   "id": "256e8015-59aa-4b5a-9216-451f16b98ef0",
   "metadata": {},
   "outputs": [],
   "source": [
    "import numpy as np\n",
    "from dotenv import load_dotenv"
   ]
  },
  {
   "cell_type": "code",
   "execution_count": 3,
   "id": "116c5f77-d564-4d5c-935c-310fde90208e",
   "metadata": {},
   "outputs": [
    {
     "name": "stdout",
     "output_type": "stream",
     "text": [
      ".env loaded (if present)\n"
     ]
    }
   ],
   "source": [
    "from pathlib import Path\n",
    "load_dotenv()\n",
    "print(\".env loaded (if present)\")"
   ]
  },
  {
   "cell_type": "code",
   "execution_count": 4,
   "id": "e687ebdb-e76f-4390-8e0a-350527d7f787",
   "metadata": {},
   "outputs": [
    {
     "name": "stdout",
     "output_type": "stream",
     "text": [
      "J1O8X0E685L3S8PD\n"
     ]
    }
   ],
   "source": [
    "import os\n",
    "api_key = os.getenv(\"OPENAI_API_KEY\")\n",
    "print(api_key)  # 验证是否成功加载"
   ]
  },
  {
   "cell_type": "code",
   "execution_count": 5,
   "id": "fa6dac0f-6304-42ad-bb8a-ab8ad116df11",
   "metadata": {},
   "outputs": [],
   "source": [
    "def get_alpha_vantage_data(symbol, function='TIME_SERIES_DAILY', output_size='compact'):\n",
    "\n",
    "    base_url = \"https://www.alphavantage.co/query\"\n",
    "    \n",
    "    params = {\n",
    "        \"function\": function,\n",
    "        \"symbol\": symbol,\n",
    "        \"outputsize\": output_size,\n",
    "        \"apikey\": api_key,\n",
    "        \"datatype\": \"json\" \n",
    "    }\n",
    "    \n",
    "    try:\n",
    "        response = requests.get(base_url, params=params)\n",
    "        response.raise_for_status()  \n",
    "        data = response.json()\n",
    "        \n",
    "        if 'Time Series (Daily)' in data:\n",
    "            time_series = data['Time Series (Daily)']\n",
    "        elif 'Weekly Time Series' in data:\n",
    "            time_series = data['Weekly Time Series']\n",
    "        elif 'Monthly Time Series' in data:\n",
    "            time_series = data['Monthly Time Series']\n",
    "        else:\n",
    "            raise ValueError(\"无法解析返回的数据格式\")\n",
    "        \n",
    "        df = pd.DataFrame.from_dict(time_series, orient='index')\n",
    "        df.index = pd.to_datetime(df.index)  \n",
    "        df = df.astype(float)  \n",
    "        \n",
    "        df.columns = [col.split('. ')[1] if '. ' in col else col for col in df.columns]\n",
    "        \n",
    "        df = df.sort_index(ascending=True)\n",
    "        \n",
    "        return df\n",
    "    \n",
    "    except Exception as e:\n",
    "        print(f\"获取数据时出错: {e}\")\n",
    "        return None\n"
   ]
  },
  {
   "cell_type": "code",
   "execution_count": 6,
   "id": "3e33d04f-73ce-4e2f-9558-ef370fd692f2",
   "metadata": {},
   "outputs": [],
   "source": [
    "aapl_data = get_alpha_vantage_data('AAPL', function='TIME_SERIES_DAILY', output_size='compact')"
   ]
  },
  {
   "cell_type": "code",
   "execution_count": 7,
   "id": "5f010d9b-afad-490c-9d78-f4aa4643bf72",
   "metadata": {},
   "outputs": [
    {
     "data": {
      "text/html": [
       "<div>\n",
       "<style scoped>\n",
       "    .dataframe tbody tr th:only-of-type {\n",
       "        vertical-align: middle;\n",
       "    }\n",
       "\n",
       "    .dataframe tbody tr th {\n",
       "        vertical-align: top;\n",
       "    }\n",
       "\n",
       "    .dataframe thead th {\n",
       "        text-align: right;\n",
       "    }\n",
       "</style>\n",
       "<table border=\"1\" class=\"dataframe\">\n",
       "  <thead>\n",
       "    <tr style=\"text-align: right;\">\n",
       "      <th></th>\n",
       "      <th>open</th>\n",
       "      <th>high</th>\n",
       "      <th>low</th>\n",
       "      <th>close</th>\n",
       "      <th>volume</th>\n",
       "    </tr>\n",
       "  </thead>\n",
       "  <tbody>\n",
       "    <tr>\n",
       "      <th>2025-03-25</th>\n",
       "      <td>220.770</td>\n",
       "      <td>224.10</td>\n",
       "      <td>220.0800</td>\n",
       "      <td>223.75</td>\n",
       "      <td>34493583.0</td>\n",
       "    </tr>\n",
       "    <tr>\n",
       "      <th>2025-03-26</th>\n",
       "      <td>223.510</td>\n",
       "      <td>225.02</td>\n",
       "      <td>220.4700</td>\n",
       "      <td>221.53</td>\n",
       "      <td>34532656.0</td>\n",
       "    </tr>\n",
       "    <tr>\n",
       "      <th>2025-03-27</th>\n",
       "      <td>221.390</td>\n",
       "      <td>224.99</td>\n",
       "      <td>220.5601</td>\n",
       "      <td>223.85</td>\n",
       "      <td>37094774.0</td>\n",
       "    </tr>\n",
       "    <tr>\n",
       "      <th>2025-03-28</th>\n",
       "      <td>221.670</td>\n",
       "      <td>223.81</td>\n",
       "      <td>217.6800</td>\n",
       "      <td>217.90</td>\n",
       "      <td>39818617.0</td>\n",
       "    </tr>\n",
       "    <tr>\n",
       "      <th>2025-03-31</th>\n",
       "      <td>217.005</td>\n",
       "      <td>225.62</td>\n",
       "      <td>216.2300</td>\n",
       "      <td>222.13</td>\n",
       "      <td>65299321.0</td>\n",
       "    </tr>\n",
       "    <tr>\n",
       "      <th>...</th>\n",
       "      <td>...</td>\n",
       "      <td>...</td>\n",
       "      <td>...</td>\n",
       "      <td>...</td>\n",
       "      <td>...</td>\n",
       "    </tr>\n",
       "    <tr>\n",
       "      <th>2025-08-11</th>\n",
       "      <td>227.920</td>\n",
       "      <td>229.56</td>\n",
       "      <td>224.7600</td>\n",
       "      <td>227.18</td>\n",
       "      <td>61806132.0</td>\n",
       "    </tr>\n",
       "    <tr>\n",
       "      <th>2025-08-12</th>\n",
       "      <td>228.005</td>\n",
       "      <td>230.80</td>\n",
       "      <td>227.0700</td>\n",
       "      <td>229.65</td>\n",
       "      <td>55672301.0</td>\n",
       "    </tr>\n",
       "    <tr>\n",
       "      <th>2025-08-13</th>\n",
       "      <td>231.070</td>\n",
       "      <td>235.00</td>\n",
       "      <td>230.4300</td>\n",
       "      <td>233.33</td>\n",
       "      <td>69878546.0</td>\n",
       "    </tr>\n",
       "    <tr>\n",
       "      <th>2025-08-14</th>\n",
       "      <td>234.055</td>\n",
       "      <td>235.12</td>\n",
       "      <td>230.8500</td>\n",
       "      <td>232.78</td>\n",
       "      <td>51916275.0</td>\n",
       "    </tr>\n",
       "    <tr>\n",
       "      <th>2025-08-15</th>\n",
       "      <td>234.000</td>\n",
       "      <td>234.28</td>\n",
       "      <td>229.3350</td>\n",
       "      <td>231.59</td>\n",
       "      <td>56038657.0</td>\n",
       "    </tr>\n",
       "  </tbody>\n",
       "</table>\n",
       "<p>100 rows × 5 columns</p>\n",
       "</div>"
      ],
      "text/plain": [
       "               open    high       low   close      volume\n",
       "2025-03-25  220.770  224.10  220.0800  223.75  34493583.0\n",
       "2025-03-26  223.510  225.02  220.4700  221.53  34532656.0\n",
       "2025-03-27  221.390  224.99  220.5601  223.85  37094774.0\n",
       "2025-03-28  221.670  223.81  217.6800  217.90  39818617.0\n",
       "2025-03-31  217.005  225.62  216.2300  222.13  65299321.0\n",
       "...             ...     ...       ...     ...         ...\n",
       "2025-08-11  227.920  229.56  224.7600  227.18  61806132.0\n",
       "2025-08-12  228.005  230.80  227.0700  229.65  55672301.0\n",
       "2025-08-13  231.070  235.00  230.4300  233.33  69878546.0\n",
       "2025-08-14  234.055  235.12  230.8500  232.78  51916275.0\n",
       "2025-08-15  234.000  234.28  229.3350  231.59  56038657.0\n",
       "\n",
       "[100 rows x 5 columns]"
      ]
     },
     "execution_count": 7,
     "metadata": {},
     "output_type": "execute_result"
    }
   ],
   "source": [
    "aapl_data"
   ]
  },
  {
   "cell_type": "code",
   "execution_count": null,
   "id": "3ce62b16-6004-4c1a-ac79-dde9ea06988c",
   "metadata": {},
   "outputs": [],
   "source": [
    "aapl_data.to_csv(\"C://Users//Zhangchensi//bootcamp_Chensi_Zhang//data//raw//"
   ]
  }
 ],
 "metadata": {
  "kernelspec": {
   "display_name": "Python 3 (ipykernel)",
   "language": "python",
   "name": "python3"
  },
  "language_info": {
   "codemirror_mode": {
    "name": "ipython",
    "version": 3
   },
   "file_extension": ".py",
   "mimetype": "text/x-python",
   "name": "python",
   "nbconvert_exporter": "python",
   "pygments_lexer": "ipython3",
   "version": "3.10.18"
  }
 },
 "nbformat": 4,
 "nbformat_minor": 5
}
