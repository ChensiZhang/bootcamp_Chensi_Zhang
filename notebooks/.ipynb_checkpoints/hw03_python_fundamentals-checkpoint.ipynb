{
 "cells": [
  {
   "cell_type": "code",
   "execution_count": 1,
   "id": "f07fee8e-33e4-49eb-aeca-fb4433b32dc4",
   "metadata": {},
   "outputs": [],
   "source": [
    "import numpy as np\n",
    "import pandas as pd\n",
    "import os"
   ]
  },
  {
   "cell_type": "code",
   "execution_count": 2,
   "id": "6e949ff6-a7bd-40d4-9657-742253ef107f",
   "metadata": {},
   "outputs": [
    {
     "name": "stdout",
     "output_type": "stream",
     "text": [
      "Array addition: [11 22 33 44 55]\n",
      "Array multiplication: [ 10  40  90 160 250]\n",
      "Array exponentiation: [ 1  4  9 16 25]\n"
     ]
    }
   ],
   "source": [
    "arr1 = np.array([1, 2, 3, 4, 5])\n",
    "arr2 = np.array([10, 20, 30, 40, 50])\n",
    "\n",
    "print(\"Array addition:\", arr1 + arr2)\n",
    "print(\"Array multiplication:\", arr1 * arr2)\n",
    "print(\"Array exponentiation:\", arr1 ** 2)"
   ]
  },
  {
   "cell_type": "code",
   "execution_count": 3,
   "id": "ba2a66f2-5556-43bd-9e6b-32cf27508182",
   "metadata": {},
   "outputs": [],
   "source": [
    "def loop_multiply(a, b):\n",
    "    result = []\n",
    "    for i in range(len(a)):\n",
    "        result.append(a[i] * b[i])\n",
    "    return result"
   ]
  },
  {
   "cell_type": "code",
   "execution_count": 4,
   "id": "b5d4ecca-1784-480d-a077-531f801ad3db",
   "metadata": {},
   "outputs": [
    {
     "name": "stdout",
     "output_type": "stream",
     "text": [
      "4.66 μs ± 90 ns per loop (mean ± std. dev. of 7 runs, 100,000 loops each)\n",
      "1.25 μs ± 19.2 ns per loop (mean ± std. dev. of 7 runs, 1,000,000 loops each)\n"
     ]
    }
   ],
   "source": [
    "%timeit loop_multiply(arr1, arr2)\n",
    "%timeit arr1 * arr2  "
   ]
  },
  {
   "cell_type": "code",
   "execution_count": 5,
   "id": "d53a434c-fb87-4e68-9279-82012fac2daf",
   "metadata": {},
   "outputs": [],
   "source": [
    "df = pd.read_csv('C://Users/Zhangchensi//bootcamp_Chensi_Zhang//data//starter_data.csv')"
   ]
  },
  {
   "cell_type": "code",
   "execution_count": 9,
   "id": "a9246f39-7571-4447-847b-c66f781d043b",
   "metadata": {},
   "outputs": [
    {
     "name": "stdout",
     "output_type": "stream",
     "text": [
      "<class 'pandas.core.frame.DataFrame'>\n",
      "RangeIndex: 10 entries, 0 to 9\n",
      "Data columns (total 3 columns):\n",
      " #   Column    Non-Null Count  Dtype \n",
      "---  ------    --------------  ----- \n",
      " 0   category  10 non-null     object\n",
      " 1   value     10 non-null     int64 \n",
      " 2   date      10 non-null     object\n",
      "dtypes: int64(1), object(2)\n",
      "memory usage: 368.0+ bytes\n",
      "None\n",
      "  category  value        date\n",
      "0        A     10  2025-08-01\n",
      "1        B     15  2025-08-02\n",
      "2        A     12  2025-08-03\n",
      "3        B     18  2025-08-04\n",
      "4        C     25  2025-08-05\n"
     ]
    }
   ],
   "source": [
    "print(df.info())\n",
    "print(df.head())"
   ]
  },
  {
   "cell_type": "code",
   "execution_count": 10,
   "id": "0837640c-79a1-41d7-8efa-e46df4d94b69",
   "metadata": {},
   "outputs": [
    {
     "name": "stdout",
     "output_type": "stream",
     "text": [
      "           value\n",
      "count  10.000000\n",
      "mean   17.600000\n",
      "std     7.381659\n",
      "min    10.000000\n",
      "25%    12.250000\n",
      "50%    14.500000\n",
      "75%    23.250000\n",
      "max    30.000000\n"
     ]
    }
   ],
   "source": [
    "numeric_stats = df.describe()\n",
    "print(numeric_stats)"
   ]
  },
  {
   "cell_type": "code",
   "execution_count": 13,
   "id": "ba5c1a6f-c0eb-4796-8d6f-05811cfbfc97",
   "metadata": {},
   "outputs": [
    {
     "data": {
      "text/plain": [
       "category\n",
       "A    11.500000\n",
       "B    15.666667\n",
       "C    27.666667\n",
       "Name: value, dtype: float64"
      ]
     },
     "execution_count": 13,
     "metadata": {},
     "output_type": "execute_result"
    }
   ],
   "source": [
    "groupby_stats = df.groupby('category')\n",
    "groupby_stats['value'].mean()"
   ]
  },
  {
   "cell_type": "code",
   "execution_count": 14,
   "id": "eddc9281-96b0-468e-92ab-fd6bd746137c",
   "metadata": {},
   "outputs": [],
   "source": [
    "numeric_stats.to_csv('C://Users/Zhangchensi//bootcamp_Chensi_Zhang//data//processed//summary.csv')"
   ]
  },
  {
   "cell_type": "code",
   "execution_count": 15,
   "id": "f83dc579-92ed-4507-af34-7e14f7ce8ae8",
   "metadata": {},
   "outputs": [],
   "source": [
    "def get_summary_stats(df, group_col=None, numeric_cols=None):\n",
    "\n",
    "    stats = {}\n",
    "\n",
    "    if numeric_cols is None:\n",
    "        numeric_cols = df.select_dtypes(include=['number']).columns\n",
    "    \n",
    "    stats['overall'] = df[numeric_cols].describe().to_dict()\n",
    "    \n",
    "    if group_col and group_col in df.columns:\n",
    "        stats['grouped'] = df.groupby(group_col)[numeric_cols].mean().to_dict()\n",
    "    \n",
    "    return stats"
   ]
  }
 ],
 "metadata": {
  "kernelspec": {
   "display_name": "Python 3 (ipykernel)",
   "language": "python",
   "name": "python3"
  },
  "language_info": {
   "codemirror_mode": {
    "name": "ipython",
    "version": 3
   },
   "file_extension": ".py",
   "mimetype": "text/x-python",
   "name": "python",
   "nbconvert_exporter": "python",
   "pygments_lexer": "ipython3",
   "version": "3.10.18"
  }
 },
 "nbformat": 4,
 "nbformat_minor": 5
}
